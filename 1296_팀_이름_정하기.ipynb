{
  "nbformat": 4,
  "nbformat_minor": 0,
  "metadata": {
    "colab": {
      "provenance": [],
      "authorship_tag": "ABX9TyNWqrfjPiCL4o7CQkZGiu0c",
      "include_colab_link": true
    },
    "kernelspec": {
      "name": "python3",
      "display_name": "Python 3"
    },
    "language_info": {
      "name": "python"
    }
  },
  "cells": [
    {
      "cell_type": "markdown",
      "metadata": {
        "id": "view-in-github",
        "colab_type": "text"
      },
      "source": [
        "<a href=\"https://colab.research.google.com/github/JunheeChoi/coding_practice/blob/main/1296_%ED%8C%80_%EC%9D%B4%EB%A6%84_%EC%A0%95%ED%95%98%EA%B8%B0.ipynb\" target=\"_parent\"><img src=\"https://colab.research.google.com/assets/colab-badge.svg\" alt=\"Open In Colab\"/></a>"
      ]
    },
    {
      "cell_type": "markdown",
      "source": [
        "# 1296번 팀 이름 정하기\n",
        "문제\n",
        "\n",
        "연두는 프로그래밍 대회에 나갈 팀 이름을 정하려고 한다. 미신을 믿는 연두는 이환이에게 공식을 하나 받아왔고, 이 공식을 이용해 우승할 확률이 가장 높은 팀 이름을 찾으려고 한다.\n",
        "\n",
        "이환이가 만든 공식은 사용하려면 먼저 다음 4가지 변수의 값을 계산해야 한다.\n",
        "\n",
        "> L = 연두의 이름과 팀 이름에서 등장하는 L의 개수\n",
        "\n",
        "> O = 연두의 이름과 팀 이름에서 등장하는 O의 개수\n",
        "\n",
        "> V = 연두의 이름과 팀 이름에서 등장하는 V의 개수\n",
        "\n",
        "> E = 연두의 이름과 팀 이름에서 등장하는 E의 개수\n",
        "\n",
        "\n",
        "그 다음, 위에서 구한 변수를 다음 식에 입력하면 팀 이름의 우승할 확률을 구할 수 있다.\n",
        "\n",
        "> ((L+O) × (L+V) × (L+E) × (O+V) × (O+E) × (V+E)) mod 100\n",
        "\n",
        "연두의 영어 이름과 팀 이름 후보 N개가 주어졌을 때, 우승할 확률이 가장 높은 팀 이름을 구해보자. 확률이 가장 높은 팀이 여러가지인 경우 사전 순으로 가장 앞서는 팀 이름이 우승할 확률이 가장 높은 것이다.\n",
        "\n",
        "#### 입력\n",
        "\n",
        "첫째 줄에 연두의 영어 이름이 주어진다. 둘째 줄에는 팀 이름 후보의 개수 N이 주어진다. 셋째 줄부터 N개의 줄에 팀 이름이 한 줄에 하나씩 주어진다.\n",
        "\n",
        "연두의 영어 이름과 팀 이름은 길이는 1보다 크거나 같고, 20보다 작거나 같으며, 알파벳 대문자로만 이루어져 있다. N은 50보다 작거나 같은 자연수이다.\n",
        "\n",
        "#### 출력\n",
        "\n",
        "첫째 줄에 우승할 확률이 가장 높은 팀 이름을 출력한다.\n",
        "\n",
        "* 예제\n",
        "입력 1\n",
        "LOVE\n",
        "3\n",
        "JACOB\n",
        "FRANK\n",
        "DANO\n",
        "\n",
        "* 예제 출력 1\n",
        "FRANK\n",
        "\n",
        "\n",
        "예제 입력 2\n",
        "JANE\n",
        "4\n",
        "THOMAS\n",
        "MICHAEL\n",
        "INDY\n",
        "LIU\n",
        "예제 출력 2\n",
        "INDY\n",
        "예제 입력 3\n",
        "LILLY\n",
        "1\n",
        "PIERRE\n",
        "예제 출력 3\n",
        "PIERRE\n",
        "예제 입력 4\n",
        "MERYLOV\n",
        "5\n",
        "JOHN\n",
        "DAVE\n",
        "STEVE\n",
        "JOHN\n",
        "DAVE\n",
        "예제 출력 4\n",
        "DAVE"
      ],
      "metadata": {
        "id": "ZcpgYkKYFggv"
      }
    },
    {
      "cell_type": "code",
      "execution_count": 1,
      "metadata": {
        "colab": {
          "base_uri": "https://localhost:8080/"
        },
        "id": "4-CuBqiNFfvJ",
        "outputId": "05e46da5-127b-4bba-b39e-e30fa56466ea"
      },
      "outputs": [
        {
          "output_type": "stream",
          "name": "stdout",
          "text": [
            "LOHOERV\n",
            "3\n",
            "TETSCV\n",
            "LOBVDS\n",
            "VEAFEG\n",
            "TETSCV\n"
          ]
        }
      ],
      "source": [
        "if __name__ == '__main__':\n",
        "    ms = input()\n",
        "    n = int(input())\n",
        "    w_list = sorted([input() for i in range(n)])\n",
        "\n",
        "    max_p = max_i = 0\n",
        "    for i in range(n):\n",
        "        L = ms.count('L') + w_list[i].count('L')\n",
        "        O = ms.count('O') + w_list[i].count('O')\n",
        "        V = ms.count('V') + w_list[i].count('V')\n",
        "        E = ms.count('E') + w_list[i].count('E')\n",
        "        p = ((L + O) * (L + V) * (L + E) * (O + V) * (O + E) * (V + E)) % 100\n",
        "        if p > max_p:\n",
        "            max_p = p\n",
        "            max_i = i\n",
        "    print(w_list[max_i])"
      ]
    },
    {
      "cell_type": "code",
      "source": [
        "y_name = list(input())\n",
        "print(y_name)"
      ],
      "metadata": {
        "colab": {
          "base_uri": "https://localhost:8080/"
        },
        "id": "-uEKpwpPHmhp",
        "outputId": "2cb0ab5a-45b6-42a7-c8a7-6ef306133779"
      },
      "execution_count": 9,
      "outputs": [
        {
          "output_type": "stream",
          "name": "stdout",
          "text": [
            "dgdgdg\n",
            "['d', 'g', 'd', 'g', 'd', 'g']\n"
          ]
        }
      ]
    }
  ]
}