{
  "nbformat": 4,
  "nbformat_minor": 0,
  "metadata": {
    "colab": {
      "provenance": [],
      "authorship_tag": "ABX9TyPBMWnQ0Q8UC501+PjkqeEM",
      "include_colab_link": true
    },
    "kernelspec": {
      "name": "python3",
      "display_name": "Python 3"
    },
    "language_info": {
      "name": "python"
    }
  },
  "cells": [
    {
      "cell_type": "markdown",
      "metadata": {
        "id": "view-in-github",
        "colab_type": "text"
      },
      "source": [
        "<a href=\"https://colab.research.google.com/github/JunheeChoi/coding_practice/blob/main/%EC%BD%94%EB%94%A9%ED%85%8C%EC%8A%A4%ED%8A%B8_with_Python.ipynb\" target=\"_parent\"><img src=\"https://colab.research.google.com/assets/colab-badge.svg\" alt=\"Open In Colab\"/></a>"
      ]
    },
    {
      "cell_type": "markdown",
      "source": [
        "# 보통의 취준생을 위한 코딩테스트 with Python"
      ],
      "metadata": {
        "id": "n9FyVbYKFFu5"
      }
    },
    {
      "cell_type": "markdown",
      "source": [
        "## 3장 카카오톡의 오픈채팅방은 무슨 알고리즘으로 구현할까?"
      ],
      "metadata": {
        "id": "DxuMq82kFJ8Z"
      }
    },
    {
      "cell_type": "markdown",
      "source": [
        "### 3-2 2020년 카카오 개발자 신입 공개 채용 1차 1번 오픈채팅방 문제\n",
        "https://school.programmers.co.kr/learn/courses/30/lessons/42888\n",
        "\n",
        "오픈채팅방\n",
        "카카오톡 오픈채팅방에서는 친구가 아닌 사람들과 대화를 할 수 있는데, 본래 닉네임이 아닌 가상의 닉네임을 사용하여 채팅방에 들어갈 수 있다.\n",
        "\n",
        "신입사원인 김크루는 카카오톡 오픈 채팅방을 개설한 사람을 위해, 다양한 사람들이 들어오고, 나가는 것을 지켜볼 수 있는 관리자창을 만들기로 했다. 채팅방에 누군가 들어오면 다음 메시지가 출력된다.\n",
        "\n",
        "\"[닉네임]님이 들어왔습니다.\"\n",
        "\n",
        "채팅방에서 누군가 나가면 다음 메시지가 출력된다.\n",
        "\n",
        "\"[닉네임]님이 나갔습니다.\"\n",
        "\n",
        "채팅방에서 닉네임을 변경하는 방법은 다음과 같이 두 가지이다.\n",
        "\n",
        "채팅방을 나간 후, 새로운 닉네임으로 다시 들어간다.\n",
        "채팅방에서 닉네임을 변경한다.\n",
        "닉네임을 변경할 때는 기존에 채팅방에 출력되어 있던 메시지의 닉네임도 전부 변경된다.\n",
        "\n",
        "예를 들어, 채팅방에 \"Muzi\"와 \"Prodo\"라는 닉네임을 사용하는 사람이 순서대로 들어오면 채팅방에는 다음과 같이 메시지가 출력된다.\n",
        "\n",
        "\"Muzi님이 들어왔습니다.\"\n",
        "\"Prodo님이 들어왔습니다.\"\n",
        "\n",
        "채팅방에 있던 사람이 나가면 채팅방에는 다음과 같이 메시지가 남는다.\n",
        "\n",
        "\"Muzi님이 들어왔습니다.\"\n",
        "\"Prodo님이 들어왔습니다.\"\n",
        "\"Muzi님이 나갔습니다.\"\n",
        "\n",
        "Muzi가 나간후 다시 들어올 때, Prodo 라는 닉네임으로 들어올 경우 기존에 채팅방에 남아있던 Muzi도 Prodo로 다음과 같이 변경된다.\n",
        "\n",
        "\"Prodo님이 들어왔습니다.\"\n",
        "\"Prodo님이 들어왔습니다.\"\n",
        "\"Prodo님이 나갔습니다.\"\n",
        "\"Prodo님이 들어왔습니다.\"\n",
        "\n",
        "채팅방은 중복 닉네임을 허용하기 때문에, 현재 채팅방에는 Prodo라는 닉네임을 사용하는 사람이 두 명이 있다. 이제, 채팅방에 두 번째로 들어왔던 Prodo가 Ryan으로 닉네임을 변경하면 채팅방 메시지는 다음과 같이 변경된다.\n",
        "\n",
        "\"Prodo님이 들어왔습니다.\"\n",
        "\"Ryan님이 들어왔습니다.\"\n",
        "\"Prodo님이 나갔습니다.\"\n",
        "\"Prodo님이 들어왔습니다.\"\n",
        "\n",
        "채팅방에 들어오고 나가거나, 닉네임을 변경한 기록이 담긴 문자열 배열 record가 매개변수로 주어질 때, 모든 기록이 처리된 후, 최종적으로 방을 개설한 사람이 보게 되는 메시지를 문자열 배열 형태로 return 하도록 solution 함수를 완성하라.\n",
        "\n",
        "\n",
        "\n",
        "> 제한사항\n",
        "\n",
        "record는 다음과 같은 문자열이 담긴 배열이며, 길이는 1 이상 100,000 이하이다.\n",
        "\n",
        "다음은 record에 담긴 문자열에 대한 설명이다.\n",
        "\n",
        "*   record는 다음과 같은 문자열이 담긴 배열이며, 길이는 1 이상 100,000 이하이다.\n",
        "*   다음은 record에 담긴 문자열에 대한 설명이다.\n",
        "\n",
        "모든 유저는 [유저 아이디]로 구분한다.\n",
        "\n",
        "[유저 아이디] 사용자가 [닉네임]으로 채팅방에 입장 - \"Enter [유저 아이디] [닉네임]\" (ex. \"Enter uid1234 Muzi\")\n",
        "\n",
        "[유저 아이디] 사용자가 채팅방에서 퇴장 - \"Leave [유저 아이디]\" (ex. \"Leave uid1234\")\n",
        "\n",
        "[유저 아이디] 사용자가 닉네임을 [닉네임]으로 변경 - \"Change [유저 아이디] \n",
        "[닉네임]\" (ex. \"Change uid1234 Muzi\")\n",
        "\n",
        "첫 단어는 Enter, Leave, Change 중 하나이다.\n",
        "\n",
        "각 단어는 공백으로 구분되어 있으며, 알파벳 대문자, 소문자, 숫자로만 이루어져있다.\n",
        "\n",
        "유저 아이디와 닉네임은 알파벳 대문자, 소문자를 구별한다.\n",
        "\n",
        "유저 아이디와 닉네임의 길이는 1 이상 10 이하이다.\n",
        "\n",
        "채팅방에서 나간 유저가 닉네임을 변경하는 등 잘못 된 입력은 주어지지 않는다.\n",
        "\n",
        "![image.png](data:image/png;base64,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)"
      ],
      "metadata": {
        "id": "HJRcpY7fFTG7"
      }
    },
    {
      "cell_type": "code",
      "execution_count": 1,
      "metadata": {
        "id": "V2kO6OXfEqUH"
      },
      "outputs": [],
      "source": [
        "# 닉네임은 중복되지만 유저 아이디는 중복되지 않으며 입력 record가 주어졌을 때 record의 문자열을 차례대로 처리하여 마지막 결과 상태를 나타내면 되는 문제\n",
        "def solution(record):\n",
        "    answer = []\n",
        "    trace = []\n",
        "    Map = {}   # key, value가 있는 dictionary 구조\n",
        "\n",
        "    for i in range(len(record)):\n",
        "        temp = record[i].split(' ')    # 문자열 파싱\n",
        "\n",
        "        if temp[0] == 'Enter':    # 명령어가 enter인 경우\n",
        "            Map[temp[1]] = temp[2]    # Map의 key 유저 아이디의 value값을 닉네임으로 설정\n",
        "            trace.append([temp[0], temp[1]])    # Enter가 입력된 순서 기록\n",
        "        elif temp[0] == 'Leave':    # 명령어가 Leave인 경우\n",
        "            trace.append([temp[0], temp[1]])    # 명령어 leave가 입력된 순서 기록\n",
        "        else : Map[temp[1]] = temp[2]   # 명령어가 Change인 경우 Map의 key유저 아이디의 value값을 닉네임으로 설정\n",
        "\n",
        "\n",
        "    for i in range(len(trace)):    # 명령어가 입력된 순서를 기록한 곳을 보며\n",
        "        if trace[i][0] == 'Enter':  # 기록된 명령어가 Enter인 경우\n",
        "            result = Map[trace[i][1]] + \"님이 들어왔습니다.\"    # Map의 key유저 아이디의 value값(닉네임) + \"님이 들어왔습니다.\"를 출력\n",
        "            answer.append(result)\n",
        "        else:                       # 기록된 명령어가 Leave인 경우\n",
        "            result = Map[trace[i][1]] + \"님이 나갔습니다.\"    # Map의 key유저 아이디의 value값(닉네임) + \"님이 나갔습니다 출력\"\n",
        "            answer.append(result)\n",
        "\n",
        "    return answer"
      ]
    },
    {
      "cell_type": "code",
      "source": [
        "solution([\"Enter uid8979 muzii\", \"Change uid8979 prodo\", \"Enter uid3333 Ryan\", \"Leave uid8979 prodo\"])"
      ],
      "metadata": {
        "id": "xyWDNzY6HTL0",
        "colab": {
          "base_uri": "https://localhost:8080/"
        },
        "outputId": "ce168e8d-2cf4-44cf-b4b7-77135900a24c"
      },
      "execution_count": 2,
      "outputs": [
        {
          "output_type": "execute_result",
          "data": {
            "text/plain": [
              "['prodo님이 들어왔습니다.', 'Ryan님이 들어왔습니다.', 'prodo님이 나갔습니다.']"
            ]
          },
          "metadata": {},
          "execution_count": 2
        }
      ]
    },
    {
      "cell_type": "markdown",
      "source": [
        "### 카카오 신입 개발자 블라인드 채용 : 인프라 분야/프로그래밍 분야\n",
        "#### 1. 인프라 분야\n",
        "* 인프라의 구성요소\n",
        "1.   하드웨어 : 서버 장비 본체 혹은 데이터를 저장하기 위한 장치\n",
        "2.   네트워크 : 사용자와 사용자를 연결하는 도구들 ex) 라우터, 브릿지, 허브 등\n",
        "3. 운영체제 : 하드웨어와 소프트웨어 제어, 사용자가 쉽게 컴퓨터를 쓰도록 하는 프로그램 ex) 윈도우즈, 맥OS, 리눅스\n",
        "4. 미들웨어 : 운영체제와 애플리케이션 중간에서 도움을 주는 소프트웨어 ex) mySQL, 아파치 HTTP 서버\n",
        "\n",
        "* 세부 업무\n",
        "1. System Engineer\n",
        "2. Network Engineer\n",
        "3. DBA\n",
        "4. Data Architect\n",
        "5. Hadoop Engineer\n",
        "\n",
        "\n",
        "#### 2. 프로그래밍 분야\n",
        "* 서버 분야\n",
        "1. 카카오톡, 다음, 멜론, 소셜 등 서비스 개발\n",
        "2. 비즈니스 플랫폼 개발\n",
        "3. 클라우드 플랫폼/지도 플랫폼/개발 도구 개발\n",
        "\n",
        "* 클라이언트 분야\n",
        "1. Android/iOS 앱 개발\n",
        "2. Front-End 개발\n",
        "\n",
        "* 데이터 분야\n",
        "1. 데이터 엔지니어링\n",
        "2. 데이터 사이언스\n",
        "\n"
      ],
      "metadata": {
        "id": "s0Yvnm8eUIFp"
      }
    },
    {
      "cell_type": "markdown",
      "source": [
        "## 제4장 구현의 달인, 삼성 코딩 테스트"
      ],
      "metadata": {
        "id": "TodZVbcUV4fP"
      }
    },
    {
      "cell_type": "markdown",
      "source": [
        "### 4-1 삼성 개발자 신입 공개 채용 과정\n",
        "* S/W 역량 테스트(=코딩 테스트)\n",
        "* 면접 : 기술 면접, 인성 면접, 창의 면접\n",
        "\n",
        "\n",
        "### 4-2 삼성의 주력 서비스\n",
        "\n",
        "\n",
        "> 삼성전자, 삼성디스플레이, 삼성생명, 삼성SDS, 삼성SDI, 삼성전기, 삼성카드 등\n",
        "* 긴 코드를 구현할 능력이 있으며, 정확하게 구현해나가는 사람 필요\n",
        "* 완전 탐색 알고리즘, 백트래킹알고리즘, 그래프 이론 등, 그 외 동적 프로그래밍, 그리디 알고리즘 등 출제\n",
        "\n",
        "\n",
        "### 4-3 삼성 S/W 역량 테스트 A형 기출 문제\n",
        "치킨 배달\n",
        "\n",
        "* 문제\n",
        "\n",
        "크기가 N×N인 도시가 있다. 도시는 1×1크기의 칸으로 나누어져 있다. 도시의 각 칸은 빈 칸, 치킨집, 집 중 하나이다. 도시의 칸은 (r, c)와 같은 형태로 나타내고, r행 c열 또는 위에서부터 r번째 칸, 왼쪽에서부터 c번째 칸을 의미한다. r과 c는 1부터 시작한다.\n",
        "\n",
        "이 도시에 사는 사람들은 치킨을 매우 좋아한다. 따라서, 사람들은 \"치킨 거리\"라는 말을 주로 사용한다. 치킨 거리는 집과 가장 가까운 치킨집 사이의 거리이다. 즉, 치킨 거리는 집을 기준으로 정해지며, 각각의 집은 치킨 거리를 가지고 있다. 도시의 치킨 거리는 모든 집의 치킨 거리의 합이다.\n",
        "\n",
        "임의의 두 칸 (r1, c1)과 (r2, c2) 사이의 거리는 |r1-r2| + |c1-c2|로 구한다.\n",
        "\n",
        "예를 들어, 아래와 같은 지도를 갖는 도시를 살펴보자.\n",
        "\n",
        "0 2 0 1 0\n",
        "\n",
        "1 0 1 0 0\n",
        "\n",
        "0 0 0 0 0\n",
        "\n",
        "0 0 0 1 1\n",
        "\n",
        "0 0 0 1 2\n",
        "\n",
        "0은 빈 칸, 1은 집, 2는 치킨집이다.\n",
        "\n",
        "(2, 1)에 있는 집과 (1, 2)에 있는 치킨집과의 거리는 |2-1| + |1-2| = 2, (5, 5)에 있는 치킨집과의 거리는 |2-5| + |1-5| = 7이다. 따라서, (2, 1)에 있는 집의 치킨 거리는 2이다.\n",
        "\n",
        "(5, 4)에 있는 집과 (1, 2)에 있는 치킨집과의 거리는 |5-1| + |4-2| = 6, (5, 5)에 있는 치킨집과의 거리는 |5-5| + |4-5| = 1이다. 따라서, (5, 4)에 있는 집의 치킨 거리는 1이다.\n",
        "\n",
        "이 도시에 있는 치킨집은 모두 같은 프랜차이즈이다. 프렌차이즈 본사에서는 수익을 증가시키기 위해 일부 치킨집을 폐업시키려고 한다. 오랜 연구 끝에 이 도시에서 가장 수익을 많이 낼 수 있는  치킨집의 개수는 최대 M개라는 사실을 알아내었다.\n",
        "\n",
        "도시에 있는 치킨집 중에서 최대 M개를 고르고, 나머지 치킨집은 모두 폐업시켜야 한다. 어떻게 고르면, 도시의 치킨 거리가 가장 작게 될지 구하는 프로그램을 작성하시오.\n",
        "\n",
        "* 입력\n",
        "\n",
        "첫째 줄에 N(2 ≤ N ≤ 50)과 M(1 ≤ M ≤ 13)이 주어진다.\n",
        "\n",
        "둘째 줄부터 N개의 줄에는 도시의 정보가 주어진다.\n",
        "\n",
        "도시의 정보는 0, 1, 2로 이루어져 있고, 0은 빈 칸, 1은 집, 2는 치킨집을 의미한다. 집의 개수는 2N개를 넘지 않으며, 적어도 1개는 존재한다. 치킨집의 개수는 M보다 크거나 같고, 13보다 작거나 같다.\n",
        "\n",
        "* 출력\n",
        "\n",
        "첫째 줄에 폐업시키지 않을 치킨집을 최대 M개를 골랐을 때, 도시의 치킨 거리의 최솟값을 출력한다.\n",
        "\n",
        "![image.png](data:image/png;base64,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)\n",
        "\n"
      ],
      "metadata": {
        "id": "frBkapGfWJRB"
      }
    },
    {
      "cell_type": "code",
      "source": [],
      "metadata": {
        "id": "vlxgyDAQHTSZ"
      },
      "execution_count": null,
      "outputs": []
    },
    {
      "cell_type": "code",
      "source": [],
      "metadata": {
        "id": "7olMmcGQV6il"
      },
      "execution_count": null,
      "outputs": []
    },
    {
      "cell_type": "code",
      "source": [],
      "metadata": {
        "id": "NYZAkk9ZV6on"
      },
      "execution_count": null,
      "outputs": []
    },
    {
      "cell_type": "code",
      "source": [],
      "metadata": {
        "id": "l3ukFeTWV6yF"
      },
      "execution_count": null,
      "outputs": []
    },
    {
      "cell_type": "code",
      "source": [],
      "metadata": {
        "id": "uks84VA6V677"
      },
      "execution_count": null,
      "outputs": []
    },
    {
      "cell_type": "code",
      "source": [],
      "metadata": {
        "id": "q7R_bPsTV7IQ"
      },
      "execution_count": null,
      "outputs": []
    },
    {
      "cell_type": "code",
      "source": [],
      "metadata": {
        "id": "ve0g7b3sV7P5"
      },
      "execution_count": null,
      "outputs": []
    },
    {
      "cell_type": "code",
      "source": [],
      "metadata": {
        "id": "EID2oBxhV4J7"
      },
      "execution_count": null,
      "outputs": []
    },
    {
      "cell_type": "code",
      "source": [],
      "metadata": {
        "id": "E0Th4e-pHTYA"
      },
      "execution_count": null,
      "outputs": []
    },
    {
      "cell_type": "code",
      "source": [],
      "metadata": {
        "id": "mxXgzGePHTeH"
      },
      "execution_count": null,
      "outputs": []
    },
    {
      "cell_type": "code",
      "source": [],
      "metadata": {
        "id": "6bCvxUxUHTlO"
      },
      "execution_count": null,
      "outputs": []
    }
  ]
}